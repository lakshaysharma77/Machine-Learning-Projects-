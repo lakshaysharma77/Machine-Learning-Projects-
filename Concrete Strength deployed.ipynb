{
 "cells": [
  {
   "cell_type": "code",
   "execution_count": 5,
   "id": "4b2980ec",
   "metadata": {},
   "outputs": [],
   "source": [
    "import gradio as gr\n",
    "import pickle \n",
    "import warnings\n",
    "warnings.filterwarnings('ignore')\n"
   ]
  },
  {
   "cell_type": "code",
   "execution_count": 7,
   "id": "351b154a",
   "metadata": {},
   "outputs": [],
   "source": [
    "# Load your trained model\n",
    "with open ('lr_model.pkl','rb') as file:\n",
    "    loaded_model=pickle.load(file)"
   ]
  },
  {
   "cell_type": "code",
   "execution_count": 9,
   "id": "0944c7d5",
   "metadata": {},
   "outputs": [
    {
     "data": {
      "text/plain": [
       "3.6118454667971065"
      ]
     },
     "execution_count": 9,
     "metadata": {},
     "output_type": "execute_result"
    }
   ],
   "source": [
    "loaded_model.predict([[1,1,1,1,1]])[0]"
   ]
  },
  {
   "cell_type": "code",
   "execution_count": 10,
   "id": "52a588ba",
   "metadata": {},
   "outputs": [],
   "source": [
    "def pred_target(blast_sag,flyash,super_plas,age,cem_water):\n",
    "    input_data=[(blast_sag,flyash,super_plas,age,cem_water)]\n",
    "    pred=loaded_model.predict(input_data)\n",
    "    \n",
    "    return round(pred[0],2)"
   ]
  },
  {
   "cell_type": "code",
   "execution_count": 12,
   "id": "afc9e177",
   "metadata": {},
   "outputs": [
    {
     "data": {
      "text/plain": [
       "3.61"
      ]
     },
     "execution_count": 12,
     "metadata": {},
     "output_type": "execute_result"
    }
   ],
   "source": [
    "pred_target(1,1,1,1,1)"
   ]
  },
  {
   "cell_type": "code",
   "execution_count": 20,
   "id": "79dc2683",
   "metadata": {},
   "outputs": [],
   "source": [
    "# design the interface/front end of the application\n",
    "\n",
    "iface = gr.Interface(fn=pred_target,inputs=[gr.Number(label='Blast Furnace slag kg/m3'),\n",
    "                                            gr.Number(label='Fly ash content kg/m3'),\n",
    "                                           gr.Number(label = 'Superplasticizer kg/m3'),\n",
    "                                           gr.Number(label = 'Age (Days)'),\n",
    "                                           gr.Number(label = 'cement to water Ratio W/V')] ,\n",
    "                    \n",
    "                    outputs = gr.Textbox(label = 'Compressive Strength (MPa)'),\n",
    "                    title = 'LS Constructions pvt.ltd.',\n",
    "                    description = 'This applications calculates the compressive',\n",
    "                    allow_flagging = 'never')"
   ]
  },
  {
   "cell_type": "code",
   "execution_count": 21,
   "id": "5d64ca97",
   "metadata": {},
   "outputs": [
    {
     "name": "stdout",
     "output_type": "stream",
     "text": [
      "Running on local URL:  http://127.0.0.1:7861\n",
      "Running on public URL: https://496008e1e0083c4012.gradio.live\n",
      "\n",
      "This share link expires in 72 hours. For free permanent hosting and GPU upgrades, run `gradio deploy` from Terminal to deploy to Spaces (https://huggingface.co/spaces)\n"
     ]
    },
    {
     "data": {
      "text/html": [
       "<div><iframe src=\"https://496008e1e0083c4012.gradio.live\" width=\"100%\" height=\"500\" allow=\"autoplay; camera; microphone; clipboard-read; clipboard-write;\" frameborder=\"0\" allowfullscreen></iframe></div>"
      ],
      "text/plain": [
       "<IPython.core.display.HTML object>"
      ]
     },
     "metadata": {},
     "output_type": "display_data"
    },
    {
     "data": {
      "text/plain": []
     },
     "execution_count": 21,
     "metadata": {},
     "output_type": "execute_result"
    }
   ],
   "source": [
    "iface.launch(share=True)"
   ]
  }
 ],
 "metadata": {
  "kernelspec": {
   "display_name": "Python 3 (ipykernel)",
   "language": "python",
   "name": "python3"
  },
  "language_info": {
   "codemirror_mode": {
    "name": "ipython",
    "version": 3
   },
   "file_extension": ".py",
   "mimetype": "text/x-python",
   "name": "python",
   "nbconvert_exporter": "python",
   "pygments_lexer": "ipython3",
   "version": "3.11.4"
  }
 },
 "nbformat": 4,
 "nbformat_minor": 5
}
