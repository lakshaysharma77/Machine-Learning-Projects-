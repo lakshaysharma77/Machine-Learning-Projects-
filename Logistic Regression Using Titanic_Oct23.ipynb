{
 "cells": [
  {
   "cell_type": "code",
   "execution_count": 3,
   "id": "aa08c29d",
   "metadata": {},
   "outputs": [],
   "source": [
    "# Import the libraries\n",
    "\n",
    "import numpy as np\n",
    "import pandas as pd\n",
    "\n",
    "import matplotlib.pyplot as plt\n",
    "import seaborn as sns\n",
    "\n",
    "import warnings\n",
    "warnings.filterwarnings(\"ignore\")"
   ]
  },
  {
   "cell_type": "code",
   "execution_count": 4,
   "id": "16642f83",
   "metadata": {},
   "outputs": [
    {
     "data": {
      "text/plain": [
       "((891, 12), (418, 11))"
      ]
     },
     "execution_count": 4,
     "metadata": {},
     "output_type": "execute_result"
    }
   ],
   "source": [
    "train = pd.read_csv(\"train.csv\")\n",
    "test = pd.read_csv(\"test.csv\")\n",
    "\n",
    "train.shape, test.shape"
   ]
  },
  {
   "cell_type": "code",
   "execution_count": 5,
   "id": "b21337df",
   "metadata": {},
   "outputs": [
    {
     "data": {
      "text/html": [
       "<div>\n",
       "<style scoped>\n",
       "    .dataframe tbody tr th:only-of-type {\n",
       "        vertical-align: middle;\n",
       "    }\n",
       "\n",
       "    .dataframe tbody tr th {\n",
       "        vertical-align: top;\n",
       "    }\n",
       "\n",
       "    .dataframe thead th {\n",
       "        text-align: right;\n",
       "    }\n",
       "</style>\n",
       "<table border=\"1\" class=\"dataframe\">\n",
       "  <thead>\n",
       "    <tr style=\"text-align: right;\">\n",
       "      <th></th>\n",
       "      <th>PassengerId</th>\n",
       "      <th>Survived</th>\n",
       "      <th>Pclass</th>\n",
       "      <th>Name</th>\n",
       "      <th>Sex</th>\n",
       "      <th>Age</th>\n",
       "      <th>SibSp</th>\n",
       "      <th>Parch</th>\n",
       "      <th>Ticket</th>\n",
       "      <th>Fare</th>\n",
       "      <th>Cabin</th>\n",
       "      <th>Embarked</th>\n",
       "    </tr>\n",
       "  </thead>\n",
       "  <tbody>\n",
       "    <tr>\n",
       "      <th>0</th>\n",
       "      <td>1</td>\n",
       "      <td>0</td>\n",
       "      <td>3</td>\n",
       "      <td>Braund, Mr. Owen Harris</td>\n",
       "      <td>male</td>\n",
       "      <td>22.0</td>\n",
       "      <td>1</td>\n",
       "      <td>0</td>\n",
       "      <td>A/5 21171</td>\n",
       "      <td>7.25</td>\n",
       "      <td>NaN</td>\n",
       "      <td>S</td>\n",
       "    </tr>\n",
       "  </tbody>\n",
       "</table>\n",
       "</div>"
      ],
      "text/plain": [
       "   PassengerId  Survived  Pclass                     Name   Sex   Age  SibSp  \\\n",
       "0            1         0       3  Braund, Mr. Owen Harris  male  22.0      1   \n",
       "\n",
       "   Parch     Ticket  Fare Cabin Embarked  \n",
       "0      0  A/5 21171  7.25   NaN        S  "
      ]
     },
     "execution_count": 5,
     "metadata": {},
     "output_type": "execute_result"
    }
   ],
   "source": [
    "train.head(1)"
   ]
  },
  {
   "cell_type": "code",
   "execution_count": 6,
   "id": "57ff394e",
   "metadata": {},
   "outputs": [
    {
     "data": {
      "text/plain": [
       "(1309, 12)"
      ]
     },
     "execution_count": 6,
     "metadata": {},
     "output_type": "execute_result"
    }
   ],
   "source": [
    "# Combined\n",
    "combined = pd.concat([train, test], ignore_index = True)\n",
    "\n",
    "combined.shape"
   ]
  },
  {
   "cell_type": "code",
   "execution_count": 7,
   "id": "b73b6341",
   "metadata": {},
   "outputs": [
    {
     "data": {
      "text/plain": [
       "Survived     418\n",
       "Age          263\n",
       "Fare           1\n",
       "Cabin       1014\n",
       "Embarked       2\n",
       "dtype: int64"
      ]
     },
     "execution_count": 7,
     "metadata": {},
     "output_type": "execute_result"
    }
   ],
   "source": [
    "# Missing Values\n",
    "\n",
    "combined.isnull().sum()[combined.isnull().sum()!=0]"
   ]
  },
  {
   "cell_type": "code",
   "execution_count": 8,
   "id": "0a85cf11",
   "metadata": {},
   "outputs": [
    {
     "data": {
      "text/plain": [
       "1    256\n",
       "2     23\n",
       "3     16\n",
       "Name: Pclass, dtype: int64"
      ]
     },
     "execution_count": 8,
     "metadata": {},
     "output_type": "execute_result"
    }
   ],
   "source": [
    "combined.loc[combined.Cabin.notnull(), \"Pclass\"].value_counts()"
   ]
  },
  {
   "cell_type": "code",
   "execution_count": 9,
   "id": "920049a4",
   "metadata": {},
   "outputs": [],
   "source": [
    "# Bin the Cabins\n",
    "cabins = combined.Cabin.unique()[1:]\n",
    "\n",
    "\n",
    "def cab(x):\n",
    "    if x in cabins:\n",
    "        return(\"Cabin_Allotted\")\n",
    "    else:\n",
    "        return(\"Missing\")"
   ]
  },
  {
   "cell_type": "code",
   "execution_count": 10,
   "id": "4e4cd8a5",
   "metadata": {},
   "outputs": [],
   "source": [
    "combined[\"Cabin_Cat\"] = combined.Cabin.apply(cab)"
   ]
  },
  {
   "cell_type": "code",
   "execution_count": 11,
   "id": "96cff6c7",
   "metadata": {},
   "outputs": [
    {
     "data": {
      "text/plain": [
       "(1309, 2430)"
      ]
     },
     "execution_count": 11,
     "metadata": {},
     "output_type": "execute_result"
    }
   ],
   "source": [
    "pd.get_dummies(combined, drop_first = True).shape"
   ]
  },
  {
   "cell_type": "code",
   "execution_count": 12,
   "id": "d5dcb479",
   "metadata": {},
   "outputs": [
    {
     "data": {
      "text/plain": [
       "<Axes: xlabel='Cabin_Cat'>"
      ]
     },
     "execution_count": 12,
     "metadata": {},
     "output_type": "execute_result"
    },
    {
     "data": {
      "image/png": "[encoded data removed]",
      "text/plain": [
       "<Figure size 640x480 with 1 Axes>"
      ]
     },
     "metadata": {},
     "output_type": "display_data"
    }
   ],
   "source": [
    "# Cabin vs Survived\n",
    "tbl = pd.crosstab(combined.Cabin_Cat, combined.Survived)\n",
    "\n",
    "tbl.plot(kind = \"bar\")"
   ]
  },
  {
   "cell_type": "code",
   "execution_count": 13,
   "id": "b54eb760",
   "metadata": {},
   "outputs": [],
   "source": [
    "# Parch and Sibsp\n",
    "\n",
    "combined[\"Family\"] = combined.SibSp+combined.Parch+1"
   ]
  },
  {
   "cell_type": "code",
   "execution_count": 14,
   "id": "66d4c62b",
   "metadata": {},
   "outputs": [
    {
     "data": {
      "text/plain": [
       "array([ 2,  1,  5,  3,  7,  6,  4,  8, 11], dtype=int64)"
      ]
     },
     "execution_count": 14,
     "metadata": {},
     "output_type": "execute_result"
    }
   ],
   "source": [
    "combined.Family.unique()"
   ]
  },
  {
   "cell_type": "code",
   "execution_count": 15,
   "id": "bfe3f7a3",
   "metadata": {},
   "outputs": [],
   "source": [
    "# 1 Singles, 2 couple 3 small family, >3: Large\n",
    "\n",
    "def fam(x):\n",
    "    if x ==1:\n",
    "        return(\"Solo\")\n",
    "    elif x ==2:\n",
    "        return(\"Couple\")\n",
    "    elif x==3:\n",
    "        return(\"Small_Family\")\n",
    "    else:\n",
    "        return(\"Large_Family\")"
   ]
  },
  {
   "cell_type": "code",
   "execution_count": 16,
   "id": "af74280e",
   "metadata": {},
   "outputs": [],
   "source": [
    "combined[\"Family_Cat\"] = combined.Family.apply(fam)"
   ]
  },
  {
   "cell_type": "code",
   "execution_count": 17,
   "id": "dfee152f",
   "metadata": {},
   "outputs": [
    {
     "data": {
      "text/plain": [
       "<Axes: xlabel='Family_Cat'>"
      ]
     },
     "execution_count": 17,
     "metadata": {},
     "output_type": "execute_result"
    },
    {
     "data": {
      "image/png": "[encoded data removed]",
      "text/plain": [
       "<Figure size 640x480 with 1 Axes>"
      ]
     },
     "metadata": {},
     "output_type": "display_data"
    }
   ],
   "source": [
    "tbl = pd.crosstab(combined.Family_Cat, combined.Survived)\n",
    "\n",
    "tbl.plot(kind = \"bar\")"
   ]
  },
  {
   "cell_type": "code",
   "execution_count": 18,
   "id": "1d4c0667",
   "metadata": {},
   "outputs": [
    {
     "data": {
      "text/html": [
       "<div>\n",
       "<style scoped>\n",
       "    .dataframe tbody tr th:only-of-type {\n",
       "        vertical-align: middle;\n",
       "    }\n",
       "\n",
       "    .dataframe tbody tr th {\n",
       "        vertical-align: top;\n",
       "    }\n",
       "\n",
       "    .dataframe thead th {\n",
       "        text-align: right;\n",
       "    }\n",
       "</style>\n",
       "<table border=\"1\" class=\"dataframe\">\n",
       "  <thead>\n",
       "    <tr style=\"text-align: right;\">\n",
       "      <th></th>\n",
       "      <th>count</th>\n",
       "      <th>mean</th>\n",
       "      <th>std</th>\n",
       "      <th>min</th>\n",
       "      <th>25%</th>\n",
       "      <th>50%</th>\n",
       "      <th>75%</th>\n",
       "      <th>max</th>\n",
       "    </tr>\n",
       "    <tr>\n",
       "      <th>Sex</th>\n",
       "      <th></th>\n",
       "      <th></th>\n",
       "      <th></th>\n",
       "      <th></th>\n",
       "      <th></th>\n",
       "      <th></th>\n",
       "      <th></th>\n",
       "      <th></th>\n",
       "    </tr>\n",
       "  </thead>\n",
       "  <tbody>\n",
       "    <tr>\n",
       "      <th>female</th>\n",
       "      <td>388.0</td>\n",
       "      <td>28.687088</td>\n",
       "      <td>14.576962</td>\n",
       "      <td>0.17</td>\n",
       "      <td>19.0</td>\n",
       "      <td>27.0</td>\n",
       "      <td>38.0</td>\n",
       "      <td>76.0</td>\n",
       "    </tr>\n",
       "    <tr>\n",
       "      <th>male</th>\n",
       "      <td>658.0</td>\n",
       "      <td>30.585228</td>\n",
       "      <td>14.280581</td>\n",
       "      <td>0.33</td>\n",
       "      <td>21.0</td>\n",
       "      <td>28.0</td>\n",
       "      <td>39.0</td>\n",
       "      <td>80.0</td>\n",
       "    </tr>\n",
       "  </tbody>\n",
       "</table>\n",
       "</div>"
      ],
      "text/plain": [
       "        count       mean        std   min   25%   50%   75%   max\n",
       "Sex                                                              \n",
       "female  388.0  28.687088  14.576962  0.17  19.0  27.0  38.0  76.0\n",
       "male    658.0  30.585228  14.280581  0.33  21.0  28.0  39.0  80.0"
      ]
     },
     "execution_count": 18,
     "metadata": {},
     "output_type": "execute_result"
    }
   ],
   "source": [
    "combined.groupby(\"Sex\")[\"Age\"].describe()"
   ]
  },
  {
   "cell_type": "code",
   "execution_count": 19,
   "id": "e50ec84a",
   "metadata": {},
   "outputs": [],
   "source": [
    "titles = []\n",
    "for i in combined.Name:\n",
    "    titles.append(i.split(\",\")[1].split(\". \")[0].strip())"
   ]
  },
  {
   "cell_type": "code",
   "execution_count": 20,
   "id": "03ea0398",
   "metadata": {},
   "outputs": [],
   "source": [
    "combined[\"titles\"] = pd.Series(titles)"
   ]
  },
  {
   "cell_type": "code",
   "execution_count": 21,
   "id": "2ff8cdcb",
   "metadata": {},
   "outputs": [
    {
     "data": {
      "text/plain": [
       "18"
      ]
     },
     "execution_count": 21,
     "metadata": {},
     "output_type": "execute_result"
    }
   ],
   "source": [
    "combined.titles.nunique()"
   ]
  },
  {
   "cell_type": "code",
   "execution_count": 22,
   "id": "3c1a1ad7",
   "metadata": {},
   "outputs": [],
   "source": [
    "ignore = ['Don', 'Rev', 'Dr', 'Mme',\n",
    "       'Major', 'Lady', 'Sir', 'Mlle', \n",
    "          'Col', 'Capt', 'the Countess',\n",
    "       'Jonkheer', 'Dona']\n",
    "\n",
    "def nahi_chahiye(x):\n",
    "    if x in ignore:\n",
    "        return(\"Others\")\n",
    "    else:\n",
    "        return(x)"
   ]
  },
  {
   "cell_type": "code",
   "execution_count": 23,
   "id": "333d760c",
   "metadata": {},
   "outputs": [],
   "source": [
    "combined[\"titles\"] = combined.titles.apply(nahi_chahiye)"
   ]
  },
  {
   "cell_type": "code",
   "execution_count": 24,
   "id": "3d7927db",
   "metadata": {},
   "outputs": [
    {
     "data": {
      "text/html": [
       "<div>\n",
       "<style scoped>\n",
       "    .dataframe tbody tr th:only-of-type {\n",
       "        vertical-align: middle;\n",
       "    }\n",
       "\n",
       "    .dataframe tbody tr th {\n",
       "        vertical-align: top;\n",
       "    }\n",
       "\n",
       "    .dataframe thead th {\n",
       "        text-align: right;\n",
       "    }\n",
       "</style>\n",
       "<table border=\"1\" class=\"dataframe\">\n",
       "  <thead>\n",
       "    <tr style=\"text-align: right;\">\n",
       "      <th></th>\n",
       "      <th>count</th>\n",
       "      <th>mean</th>\n",
       "      <th>std</th>\n",
       "      <th>min</th>\n",
       "      <th>25%</th>\n",
       "      <th>50%</th>\n",
       "      <th>75%</th>\n",
       "      <th>max</th>\n",
       "    </tr>\n",
       "    <tr>\n",
       "      <th>titles</th>\n",
       "      <th></th>\n",
       "      <th></th>\n",
       "      <th></th>\n",
       "      <th></th>\n",
       "      <th></th>\n",
       "      <th></th>\n",
       "      <th></th>\n",
       "      <th></th>\n",
       "    </tr>\n",
       "  </thead>\n",
       "  <tbody>\n",
       "    <tr>\n",
       "      <th>Master</th>\n",
       "      <td>53.0</td>\n",
       "      <td>5.482642</td>\n",
       "      <td>4.161554</td>\n",
       "      <td>0.33</td>\n",
       "      <td>2.0</td>\n",
       "      <td>4.0</td>\n",
       "      <td>9.0</td>\n",
       "      <td>14.5</td>\n",
       "    </tr>\n",
       "    <tr>\n",
       "      <th>Miss</th>\n",
       "      <td>210.0</td>\n",
       "      <td>21.774238</td>\n",
       "      <td>12.249077</td>\n",
       "      <td>0.17</td>\n",
       "      <td>15.0</td>\n",
       "      <td>22.0</td>\n",
       "      <td>30.0</td>\n",
       "      <td>63.0</td>\n",
       "    </tr>\n",
       "    <tr>\n",
       "      <th>Mr</th>\n",
       "      <td>581.0</td>\n",
       "      <td>32.252151</td>\n",
       "      <td>12.422089</td>\n",
       "      <td>11.00</td>\n",
       "      <td>23.0</td>\n",
       "      <td>29.0</td>\n",
       "      <td>39.0</td>\n",
       "      <td>80.0</td>\n",
       "    </tr>\n",
       "    <tr>\n",
       "      <th>Mrs</th>\n",
       "      <td>170.0</td>\n",
       "      <td>36.994118</td>\n",
       "      <td>12.901767</td>\n",
       "      <td>14.00</td>\n",
       "      <td>27.0</td>\n",
       "      <td>35.5</td>\n",
       "      <td>46.5</td>\n",
       "      <td>76.0</td>\n",
       "    </tr>\n",
       "    <tr>\n",
       "      <th>Ms</th>\n",
       "      <td>1.0</td>\n",
       "      <td>28.000000</td>\n",
       "      <td>NaN</td>\n",
       "      <td>28.00</td>\n",
       "      <td>28.0</td>\n",
       "      <td>28.0</td>\n",
       "      <td>28.0</td>\n",
       "      <td>28.0</td>\n",
       "    </tr>\n",
       "    <tr>\n",
       "      <th>Others</th>\n",
       "      <td>31.0</td>\n",
       "      <td>43.129032</td>\n",
       "      <td>12.309189</td>\n",
       "      <td>23.00</td>\n",
       "      <td>32.5</td>\n",
       "      <td>45.0</td>\n",
       "      <td>52.5</td>\n",
       "      <td>70.0</td>\n",
       "    </tr>\n",
       "  </tbody>\n",
       "</table>\n",
       "</div>"
      ],
      "text/plain": [
       "        count       mean        std    min   25%   50%   75%   max\n",
       "titles                                                            \n",
       "Master   53.0   5.482642   4.161554   0.33   2.0   4.0   9.0  14.5\n",
       "Miss    210.0  21.774238  12.249077   0.17  15.0  22.0  30.0  63.0\n",
       "Mr      581.0  32.252151  12.422089  11.00  23.0  29.0  39.0  80.0\n",
       "Mrs     170.0  36.994118  12.901767  14.00  27.0  35.5  46.5  76.0\n",
       "Ms        1.0  28.000000        NaN  28.00  28.0  28.0  28.0  28.0\n",
       "Others   31.0  43.129032  12.309189  23.00  32.5  45.0  52.5  70.0"
      ]
     },
     "execution_count": 24,
     "metadata": {},
     "output_type": "execute_result"
    }
   ],
   "source": [
    "combined.groupby(\"titles\")[\"Age\"].describe()"
   ]
  },
  {
   "cell_type": "code",
   "execution_count": 25,
   "id": "be0c391b",
   "metadata": {},
   "outputs": [],
   "source": [
    "combined.loc[(combined.Age.isnull()) & \n",
    "             (combined.titles == \"Master\"), \"Age\"] = 4\n",
    "\n",
    "combined.loc[(combined.Age.isnull()) & \n",
    "             (combined.titles == \"Miss\"), \"Age\"] = 22\n",
    "\n",
    "combined.loc[(combined.Age.isnull()) & \n",
    "             (combined.titles == \"Mr\"), \"Age\"] = 29\n",
    "\n",
    "combined.loc[(combined.Age.isnull()) & \n",
    "             (combined.titles == \"Mrs\"), \"Age\"] = 35.5\n",
    "\n",
    "combined.loc[(combined.Age.isnull()) & \n",
    "             (combined.titles == \"Ms\"), \"Age\"] = 28\n",
    "\n",
    "combined.loc[(combined.Age.isnull()) & \n",
    "             (combined.titles == \"Others\"), \"Age\"] = 45"
   ]
  },
  {
   "cell_type": "code",
   "execution_count": 26,
   "id": "af80d9a1",
   "metadata": {},
   "outputs": [],
   "source": [
    "combined.loc[combined.Fare.isnull(), \n",
    "             \"Fare\"] = combined.Fare.median()"
   ]
  },
  {
   "cell_type": "code",
   "execution_count": 27,
   "id": "9c5d0725",
   "metadata": {},
   "outputs": [],
   "source": [
    "# Embarked\n",
    "combined.loc[combined.Embarked.isnull(), \"Embarked\"] = \\\n",
    "combined.Embarked.mode()[0]"
   ]
  },
  {
   "cell_type": "code",
   "execution_count": 28,
   "id": "7e8cf9fc",
   "metadata": {},
   "outputs": [],
   "source": [
    "# Drop the Unnecessary columns\n",
    "combined.drop([\"PassengerId\", \n",
    "               \"Parch\", \"SibSp\", \n",
    "               \"Name\", \"Cabin\", \"Ticket\"], \n",
    "              axis = 1, inplace = True)"
   ]
  },
  {
   "cell_type": "code",
   "execution_count": 29,
   "id": "0b510e71",
   "metadata": {},
   "outputs": [],
   "source": [
    "#combined.drop(\"Ticket\", axis = 1, inplace = True)"
   ]
  },
  {
   "cell_type": "code",
   "execution_count": 30,
   "id": "4ce55404",
   "metadata": {},
   "outputs": [
    {
     "data": {
      "text/plain": [
       "((891, 10), (418, 10))"
      ]
     },
     "execution_count": 30,
     "metadata": {},
     "output_type": "execute_result"
    }
   ],
   "source": [
    "#d.get_dummies(combined, drop_first = True)\n",
    "\n",
    "# Split the Data in Train and Test\n",
    "\n",
    "\n",
    "newtrain = combined.loc[0:train.shape[0]-1, :]\n",
    "newtest = combined.loc[train.shape[0]:, :]\n",
    "\n",
    "newtrain.shape, newtest.shape"
   ]
  },
  {
   "cell_type": "code",
   "execution_count": 31,
   "id": "e35b120d",
   "metadata": {},
   "outputs": [],
   "source": [
    "newtest.drop(\"Survived\", axis = 1, inplace = True)"
   ]
  },
  {
   "cell_type": "markdown",
   "id": "9ccf14da",
   "metadata": {},
   "source": [
    "### Statistical Test"
   ]
  },
  {
   "cell_type": "code",
   "execution_count": 32,
   "id": "f7e52359",
   "metadata": {},
   "outputs": [
    {
     "name": "stdout",
     "output_type": "stream",
     "text": [
      "Pclass 4.549251711298793e-23\n",
      "Sex 1.1973570627755645e-58\n",
      "Embarked 2.3008626481449577e-06\n",
      "Cabin_Cat 6.7419704360811776e-21\n",
      "Family_Cat 4.6082741465220125e-11\n",
      "titles 1.9783487591671835e-59\n"
     ]
    }
   ],
   "source": [
    "input_vars = [\"Pclass\", \"Sex\", \"Embarked\", \n",
    "              \"Cabin_Cat\", \"Family_Cat\", \"titles\"]\n",
    "\n",
    "import scipy.stats as stats\n",
    "\n",
    "# Ho: that the predictors and target are independent. It means\n",
    "# Predictor Variables are not helping in predicting the Survival\n",
    "# Ha: Ho is False\n",
    "\n",
    "for i in input_vars:\n",
    "    tbl = pd.crosstab(newtrain.loc[:, i], newtrain.Survived)\n",
    "    teststats, pvalue, deg, exp_freq = stats.chi2_contingency(tbl)\n",
    "    print(i, pvalue)\n"
   ]
  },
  {
   "cell_type": "code",
   "execution_count": 33,
   "id": "ed1a57bd",
   "metadata": {},
   "outputs": [],
   "source": [
    "# Dummy\n",
    "\n",
    "dummytrain = pd.get_dummies(newtrain, drop_first=True)\n",
    "dummytest = pd.get_dummies(newtest, drop_first=True)\n",
    "\n",
    "X = dummytrain.drop(\"Survived\", axis = 1)\n",
    "\n",
    "y = dummytrain.Survived"
   ]
  },
  {
   "cell_type": "code",
   "execution_count": 34,
   "id": "fe0fc32a",
   "metadata": {},
   "outputs": [],
   "source": [
    "from sklearn.linear_model import LogisticRegression\n",
    "\n",
    "logreg = LogisticRegression()\n",
    "\n",
    "pred = logreg.fit(X, y).predict(dummytest)"
   ]
  },
  {
   "cell_type": "code",
   "execution_count": 35,
   "id": "42ddc884",
   "metadata": {},
   "outputs": [
    {
     "ename": "FileNotFoundError",
     "evalue": "[Errno 2] No such file or directory: 'C:\\\\Users\\\\hp/Downloads/Titanic_Kaggle/gender_submission.csv'",
     "output_type": "error",
     "traceback": [
      "\u001b[1;31m---------------------------------------------------------------------------\u001b[0m",
      "\u001b[1;31mFileNotFoundError\u001b[0m                         Traceback (most recent call last)",
      "Cell \u001b[1;32mIn[35], line 3\u001b[0m\n\u001b[0;32m      1\u001b[0m \u001b[38;5;66;03m# Submission\u001b[39;00m\n\u001b[1;32m----> 3\u001b[0m submission \u001b[38;5;241m=\u001b[39m pd\u001b[38;5;241m.\u001b[39mread_csv(\u001b[38;5;124m\"\u001b[39m\u001b[38;5;124m~/Downloads/Titanic_Kaggle/gender_submission.csv\u001b[39m\u001b[38;5;124m\"\u001b[39m)\n",
      "File \u001b[1;32mC:\\ProgramData\\anaconda3\\Lib\\site-packages\\pandas\\util\\_decorators.py:211\u001b[0m, in \u001b[0;36mdeprecate_kwarg.<locals>._deprecate_kwarg.<locals>.wrapper\u001b[1;34m(*args, **kwargs)\u001b[0m\n\u001b[0;32m    209\u001b[0m     \u001b[38;5;28;01melse\u001b[39;00m:\n\u001b[0;32m    210\u001b[0m         kwargs[new_arg_name] \u001b[38;5;241m=\u001b[39m new_arg_value\n\u001b[1;32m--> 211\u001b[0m \u001b[38;5;28;01mreturn\u001b[39;00m func(\u001b[38;5;241m*\u001b[39margs, \u001b[38;5;241m*\u001b[39m\u001b[38;5;241m*\u001b[39mkwargs)\n",
      "File \u001b[1;32mC:\\ProgramData\\anaconda3\\Lib\\site-packages\\pandas\\util\\_decorators.py:331\u001b[0m, in \u001b[0;36mdeprecate_nonkeyword_arguments.<locals>.decorate.<locals>.wrapper\u001b[1;34m(*args, **kwargs)\u001b[0m\n\u001b[0;32m    325\u001b[0m \u001b[38;5;28;01mif\u001b[39;00m \u001b[38;5;28mlen\u001b[39m(args) \u001b[38;5;241m>\u001b[39m num_allow_args:\n\u001b[0;32m    326\u001b[0m     warnings\u001b[38;5;241m.\u001b[39mwarn(\n\u001b[0;32m    327\u001b[0m         msg\u001b[38;5;241m.\u001b[39mformat(arguments\u001b[38;5;241m=\u001b[39m_format_argument_list(allow_args)),\n\u001b[0;32m    328\u001b[0m         \u001b[38;5;167;01mFutureWarning\u001b[39;00m,\n\u001b[0;32m    329\u001b[0m         stacklevel\u001b[38;5;241m=\u001b[39mfind_stack_level(),\n\u001b[0;32m    330\u001b[0m     )\n\u001b[1;32m--> 331\u001b[0m \u001b[38;5;28;01mreturn\u001b[39;00m func(\u001b[38;5;241m*\u001b[39margs, \u001b[38;5;241m*\u001b[39m\u001b[38;5;241m*\u001b[39mkwargs)\n",
      "File \u001b[1;32mC:\\ProgramData\\anaconda3\\Lib\\site-packages\\pandas\\io\\parsers\\readers.py:950\u001b[0m, in \u001b[0;36mread_csv\u001b[1;34m(filepath_or_buffer, sep, delimiter, header, names, index_col, usecols, squeeze, prefix, mangle_dupe_cols, dtype, engine, converters, true_values, false_values, skipinitialspace, skiprows, skipfooter, nrows, na_values, keep_default_na, na_filter, verbose, skip_blank_lines, parse_dates, infer_datetime_format, keep_date_col, date_parser, dayfirst, cache_dates, iterator, chunksize, compression, thousands, decimal, lineterminator, quotechar, quoting, doublequote, escapechar, comment, encoding, encoding_errors, dialect, error_bad_lines, warn_bad_lines, on_bad_lines, delim_whitespace, low_memory, memory_map, float_precision, storage_options)\u001b[0m\n\u001b[0;32m    935\u001b[0m kwds_defaults \u001b[38;5;241m=\u001b[39m _refine_defaults_read(\n\u001b[0;32m    936\u001b[0m     dialect,\n\u001b[0;32m    937\u001b[0m     delimiter,\n\u001b[1;32m   (...)\u001b[0m\n\u001b[0;32m    946\u001b[0m     defaults\u001b[38;5;241m=\u001b[39m{\u001b[38;5;124m\"\u001b[39m\u001b[38;5;124mdelimiter\u001b[39m\u001b[38;5;124m\"\u001b[39m: \u001b[38;5;124m\"\u001b[39m\u001b[38;5;124m,\u001b[39m\u001b[38;5;124m\"\u001b[39m},\n\u001b[0;32m    947\u001b[0m )\n\u001b[0;32m    948\u001b[0m kwds\u001b[38;5;241m.\u001b[39mupdate(kwds_defaults)\n\u001b[1;32m--> 950\u001b[0m \u001b[38;5;28;01mreturn\u001b[39;00m _read(filepath_or_buffer, kwds)\n",
      "File \u001b[1;32mC:\\ProgramData\\anaconda3\\Lib\\site-packages\\pandas\\io\\parsers\\readers.py:605\u001b[0m, in \u001b[0;36m_read\u001b[1;34m(filepath_or_buffer, kwds)\u001b[0m\n\u001b[0;32m    602\u001b[0m _validate_names(kwds\u001b[38;5;241m.\u001b[39mget(\u001b[38;5;124m\"\u001b[39m\u001b[38;5;124mnames\u001b[39m\u001b[38;5;124m\"\u001b[39m, \u001b[38;5;28;01mNone\u001b[39;00m))\n\u001b[0;32m    604\u001b[0m \u001b[38;5;66;03m# Create the parser.\u001b[39;00m\n\u001b[1;32m--> 605\u001b[0m parser \u001b[38;5;241m=\u001b[39m TextFileReader(filepath_or_buffer, \u001b[38;5;241m*\u001b[39m\u001b[38;5;241m*\u001b[39mkwds)\n\u001b[0;32m    607\u001b[0m \u001b[38;5;28;01mif\u001b[39;00m chunksize \u001b[38;5;129;01mor\u001b[39;00m iterator:\n\u001b[0;32m    608\u001b[0m     \u001b[38;5;28;01mreturn\u001b[39;00m parser\n",
      "File \u001b[1;32mC:\\ProgramData\\anaconda3\\Lib\\site-packages\\pandas\\io\\parsers\\readers.py:1442\u001b[0m, in \u001b[0;36mTextFileReader.__init__\u001b[1;34m(self, f, engine, **kwds)\u001b[0m\n\u001b[0;32m   1439\u001b[0m     \u001b[38;5;28mself\u001b[39m\u001b[38;5;241m.\u001b[39moptions[\u001b[38;5;124m\"\u001b[39m\u001b[38;5;124mhas_index_names\u001b[39m\u001b[38;5;124m\"\u001b[39m] \u001b[38;5;241m=\u001b[39m kwds[\u001b[38;5;124m\"\u001b[39m\u001b[38;5;124mhas_index_names\u001b[39m\u001b[38;5;124m\"\u001b[39m]\n\u001b[0;32m   1441\u001b[0m \u001b[38;5;28mself\u001b[39m\u001b[38;5;241m.\u001b[39mhandles: IOHandles \u001b[38;5;241m|\u001b[39m \u001b[38;5;28;01mNone\u001b[39;00m \u001b[38;5;241m=\u001b[39m \u001b[38;5;28;01mNone\u001b[39;00m\n\u001b[1;32m-> 1442\u001b[0m \u001b[38;5;28mself\u001b[39m\u001b[38;5;241m.\u001b[39m_engine \u001b[38;5;241m=\u001b[39m \u001b[38;5;28mself\u001b[39m\u001b[38;5;241m.\u001b[39m_make_engine(f, \u001b[38;5;28mself\u001b[39m\u001b[38;5;241m.\u001b[39mengine)\n",
      "File \u001b[1;32mC:\\ProgramData\\anaconda3\\Lib\\site-packages\\pandas\\io\\parsers\\readers.py:1735\u001b[0m, in \u001b[0;36mTextFileReader._make_engine\u001b[1;34m(self, f, engine)\u001b[0m\n\u001b[0;32m   1733\u001b[0m     \u001b[38;5;28;01mif\u001b[39;00m \u001b[38;5;124m\"\u001b[39m\u001b[38;5;124mb\u001b[39m\u001b[38;5;124m\"\u001b[39m \u001b[38;5;129;01mnot\u001b[39;00m \u001b[38;5;129;01min\u001b[39;00m mode:\n\u001b[0;32m   1734\u001b[0m         mode \u001b[38;5;241m+\u001b[39m\u001b[38;5;241m=\u001b[39m \u001b[38;5;124m\"\u001b[39m\u001b[38;5;124mb\u001b[39m\u001b[38;5;124m\"\u001b[39m\n\u001b[1;32m-> 1735\u001b[0m \u001b[38;5;28mself\u001b[39m\u001b[38;5;241m.\u001b[39mhandles \u001b[38;5;241m=\u001b[39m get_handle(\n\u001b[0;32m   1736\u001b[0m     f,\n\u001b[0;32m   1737\u001b[0m     mode,\n\u001b[0;32m   1738\u001b[0m     encoding\u001b[38;5;241m=\u001b[39m\u001b[38;5;28mself\u001b[39m\u001b[38;5;241m.\u001b[39moptions\u001b[38;5;241m.\u001b[39mget(\u001b[38;5;124m\"\u001b[39m\u001b[38;5;124mencoding\u001b[39m\u001b[38;5;124m\"\u001b[39m, \u001b[38;5;28;01mNone\u001b[39;00m),\n\u001b[0;32m   1739\u001b[0m     compression\u001b[38;5;241m=\u001b[39m\u001b[38;5;28mself\u001b[39m\u001b[38;5;241m.\u001b[39moptions\u001b[38;5;241m.\u001b[39mget(\u001b[38;5;124m\"\u001b[39m\u001b[38;5;124mcompression\u001b[39m\u001b[38;5;124m\"\u001b[39m, \u001b[38;5;28;01mNone\u001b[39;00m),\n\u001b[0;32m   1740\u001b[0m     memory_map\u001b[38;5;241m=\u001b[39m\u001b[38;5;28mself\u001b[39m\u001b[38;5;241m.\u001b[39moptions\u001b[38;5;241m.\u001b[39mget(\u001b[38;5;124m\"\u001b[39m\u001b[38;5;124mmemory_map\u001b[39m\u001b[38;5;124m\"\u001b[39m, \u001b[38;5;28;01mFalse\u001b[39;00m),\n\u001b[0;32m   1741\u001b[0m     is_text\u001b[38;5;241m=\u001b[39mis_text,\n\u001b[0;32m   1742\u001b[0m     errors\u001b[38;5;241m=\u001b[39m\u001b[38;5;28mself\u001b[39m\u001b[38;5;241m.\u001b[39moptions\u001b[38;5;241m.\u001b[39mget(\u001b[38;5;124m\"\u001b[39m\u001b[38;5;124mencoding_errors\u001b[39m\u001b[38;5;124m\"\u001b[39m, \u001b[38;5;124m\"\u001b[39m\u001b[38;5;124mstrict\u001b[39m\u001b[38;5;124m\"\u001b[39m),\n\u001b[0;32m   1743\u001b[0m     storage_options\u001b[38;5;241m=\u001b[39m\u001b[38;5;28mself\u001b[39m\u001b[38;5;241m.\u001b[39moptions\u001b[38;5;241m.\u001b[39mget(\u001b[38;5;124m\"\u001b[39m\u001b[38;5;124mstorage_options\u001b[39m\u001b[38;5;124m\"\u001b[39m, \u001b[38;5;28;01mNone\u001b[39;00m),\n\u001b[0;32m   1744\u001b[0m )\n\u001b[0;32m   1745\u001b[0m \u001b[38;5;28;01massert\u001b[39;00m \u001b[38;5;28mself\u001b[39m\u001b[38;5;241m.\u001b[39mhandles \u001b[38;5;129;01mis\u001b[39;00m \u001b[38;5;129;01mnot\u001b[39;00m \u001b[38;5;28;01mNone\u001b[39;00m\n\u001b[0;32m   1746\u001b[0m f \u001b[38;5;241m=\u001b[39m \u001b[38;5;28mself\u001b[39m\u001b[38;5;241m.\u001b[39mhandles\u001b[38;5;241m.\u001b[39mhandle\n",
      "File \u001b[1;32mC:\\ProgramData\\anaconda3\\Lib\\site-packages\\pandas\\io\\common.py:856\u001b[0m, in \u001b[0;36mget_handle\u001b[1;34m(path_or_buf, mode, encoding, compression, memory_map, is_text, errors, storage_options)\u001b[0m\n\u001b[0;32m    851\u001b[0m \u001b[38;5;28;01melif\u001b[39;00m \u001b[38;5;28misinstance\u001b[39m(handle, \u001b[38;5;28mstr\u001b[39m):\n\u001b[0;32m    852\u001b[0m     \u001b[38;5;66;03m# Check whether the filename is to be opened in binary mode.\u001b[39;00m\n\u001b[0;32m    853\u001b[0m     \u001b[38;5;66;03m# Binary mode does not support 'encoding' and 'newline'.\u001b[39;00m\n\u001b[0;32m    854\u001b[0m     \u001b[38;5;28;01mif\u001b[39;00m ioargs\u001b[38;5;241m.\u001b[39mencoding \u001b[38;5;129;01mand\u001b[39;00m \u001b[38;5;124m\"\u001b[39m\u001b[38;5;124mb\u001b[39m\u001b[38;5;124m\"\u001b[39m \u001b[38;5;129;01mnot\u001b[39;00m \u001b[38;5;129;01min\u001b[39;00m ioargs\u001b[38;5;241m.\u001b[39mmode:\n\u001b[0;32m    855\u001b[0m         \u001b[38;5;66;03m# Encoding\u001b[39;00m\n\u001b[1;32m--> 856\u001b[0m         handle \u001b[38;5;241m=\u001b[39m \u001b[38;5;28mopen\u001b[39m(\n\u001b[0;32m    857\u001b[0m             handle,\n\u001b[0;32m    858\u001b[0m             ioargs\u001b[38;5;241m.\u001b[39mmode,\n\u001b[0;32m    859\u001b[0m             encoding\u001b[38;5;241m=\u001b[39mioargs\u001b[38;5;241m.\u001b[39mencoding,\n\u001b[0;32m    860\u001b[0m             errors\u001b[38;5;241m=\u001b[39merrors,\n\u001b[0;32m    861\u001b[0m             newline\u001b[38;5;241m=\u001b[39m\u001b[38;5;124m\"\u001b[39m\u001b[38;5;124m\"\u001b[39m,\n\u001b[0;32m    862\u001b[0m         )\n\u001b[0;32m    863\u001b[0m     \u001b[38;5;28;01melse\u001b[39;00m:\n\u001b[0;32m    864\u001b[0m         \u001b[38;5;66;03m# Binary mode\u001b[39;00m\n\u001b[0;32m    865\u001b[0m         handle \u001b[38;5;241m=\u001b[39m \u001b[38;5;28mopen\u001b[39m(handle, ioargs\u001b[38;5;241m.\u001b[39mmode)\n",
      "\u001b[1;31mFileNotFoundError\u001b[0m: [Errno 2] No such file or directory: 'C:\\\\Users\\\\hp/Downloads/Titanic_Kaggle/gender_submission.csv'"
     ]
    }
   ],
   "source": [
    "# Submission\n",
    "\n",
    "submission = pd.read_csv(\"~/Downloads/Titanic_Kaggle/gender_submission.csv\")"
   ]
  },
  {
   "cell_type": "code",
   "execution_count": null,
   "id": "bc57c383",
   "metadata": {},
   "outputs": [],
   "source": [
    "submission[\"Survived\"]= pred\n",
    "\n",
    "submission[\"Survived\"] = submission.Survived.astype(int)"
   ]
  },
  {
   "cell_type": "code",
   "execution_count": null,
   "id": "f577535c",
   "metadata": {},
   "outputs": [],
   "source": [
    "submission.to_csv(\"NayawalaLogreg_titanic.csv\", index = False)"
   ]
  },
  {
   "cell_type": "code",
   "execution_count": null,
   "id": "b5723571",
   "metadata": {},
   "outputs": [],
   "source": [
    "submission.head()"
   ]
  },
  {
   "cell_type": "code",
   "execution_count": null,
   "id": "13c0dde0",
   "metadata": {},
   "outputs": [],
   "source": [
    " from sklearn.ensemble import RandomForestClassifier, GradientBoostingClassifier\n",
    " "
   ]
  },
  {
   "cell_type": "markdown",
   "id": "4f6b94da",
   "metadata": {},
   "source": [
    "# Logistic Regression Model Using StatsModel"
   ]
  },
  {
   "cell_type": "code",
   "execution_count": 36,
   "id": "65625312",
   "metadata": {},
   "outputs": [
    {
     "name": "stdout",
     "output_type": "stream",
     "text": [
      "Warning: Maximum number of iterations has been exceeded.\n",
      "         Current function value: 0.425795\n",
      "         Iterations: 35\n"
     ]
    },
    {
     "name": "stderr",
     "output_type": "stream",
     "text": [
      "C:\\ProgramData\\anaconda3\\Lib\\site-packages\\statsmodels\\base\\model.py:607: ConvergenceWarning: Maximum Likelihood optimization failed to converge. Check mle_retvals\n",
      "  warnings.warn(\"Maximum Likelihood optimization failed to \"\n"
     ]
    },
    {
     "data": {
      "text/html": [
       "<table class=\"simpletable\">\n",
       "<caption>Logit Regression Results</caption>\n",
       "<tr>\n",
       "  <th>Dep. Variable:</th>       <td>Survived</td>     <th>  No. Observations:  </th>  <td>   891</td>  \n",
       "</tr>\n",
       "<tr>\n",
       "  <th>Model:</th>                 <td>Logit</td>      <th>  Df Residuals:      </th>  <td>   875</td>  \n",
       "</tr>\n",
       "<tr>\n",
       "  <th>Method:</th>                 <td>MLE</td>       <th>  Df Model:          </th>  <td>    15</td>  \n",
       "</tr>\n",
       "<tr>\n",
       "  <th>Date:</th>            <td>Thu, 29 Feb 2024</td> <th>  Pseudo R-squ.:     </th>  <td>0.3606</td>  \n",
       "</tr>\n",
       "<tr>\n",
       "  <th>Time:</th>                <td>13:20:07</td>     <th>  Log-Likelihood:    </th> <td> -379.38</td> \n",
       "</tr>\n",
       "<tr>\n",
       "  <th>converged:</th>             <td>False</td>      <th>  LL-Null:           </th> <td> -593.33</td> \n",
       "</tr>\n",
       "<tr>\n",
       "  <th>Covariance Type:</th>     <td>nonrobust</td>    <th>  LLR p-value:       </th> <td>9.405e-82</td>\n",
       "</tr>\n",
       "</table>\n",
       "<table class=\"simpletable\">\n",
       "<tr>\n",
       "             <td></td>                <th>coef</th>     <th>std err</th>      <th>z</th>      <th>P>|z|</th>  <th>[0.025</th>    <th>0.975]</th>  \n",
       "</tr>\n",
       "<tr>\n",
       "  <th>Pclass</th>                  <td>   -0.5159</td> <td>    0.179</td> <td>   -2.889</td> <td> 0.004</td> <td>   -0.866</td> <td>   -0.166</td>\n",
       "</tr>\n",
       "<tr>\n",
       "  <th>Age</th>                     <td>   -0.0254</td> <td>    0.009</td> <td>   -2.716</td> <td> 0.007</td> <td>   -0.044</td> <td>   -0.007</td>\n",
       "</tr>\n",
       "<tr>\n",
       "  <th>Fare</th>                    <td>    0.0058</td> <td>    0.003</td> <td>    2.038</td> <td> 0.042</td> <td>    0.000</td> <td>    0.011</td>\n",
       "</tr>\n",
       "<tr>\n",
       "  <th>Family</th>                  <td>   -0.2792</td> <td>    0.181</td> <td>   -1.545</td> <td> 0.122</td> <td>   -0.634</td> <td>    0.075</td>\n",
       "</tr>\n",
       "<tr>\n",
       "  <th>Sex_male</th>                <td>    3.1430</td> <td>    0.646</td> <td>    4.867</td> <td> 0.000</td> <td>    1.877</td> <td>    4.409</td>\n",
       "</tr>\n",
       "<tr>\n",
       "  <th>Embarked_Q</th>              <td>   -0.1484</td> <td>    0.389</td> <td>   -0.382</td> <td> 0.702</td> <td>   -0.910</td> <td>    0.613</td>\n",
       "</tr>\n",
       "<tr>\n",
       "  <th>Embarked_S</th>              <td>   -0.2948</td> <td>    0.244</td> <td>   -1.210</td> <td> 0.226</td> <td>   -0.773</td> <td>    0.183</td>\n",
       "</tr>\n",
       "<tr>\n",
       "  <th>Cabin_Cat_Missing</th>       <td>   -0.8933</td> <td>    0.315</td> <td>   -2.836</td> <td> 0.005</td> <td>   -1.511</td> <td>   -0.276</td>\n",
       "</tr>\n",
       "<tr>\n",
       "  <th>Family_Cat_Large_Family</th> <td>   -0.2141</td> <td>    0.715</td> <td>   -0.300</td> <td> 0.765</td> <td>   -1.615</td> <td>    1.187</td>\n",
       "</tr>\n",
       "<tr>\n",
       "  <th>Family_Cat_Small_Family</th> <td>    0.7003</td> <td>    0.389</td> <td>    1.799</td> <td> 0.072</td> <td>   -0.063</td> <td>    1.463</td>\n",
       "</tr>\n",
       "<tr>\n",
       "  <th>Family_Cat_Solo</th>         <td>    0.3823</td> <td>    0.330</td> <td>    1.158</td> <td> 0.247</td> <td>   -0.265</td> <td>    1.030</td>\n",
       "</tr>\n",
       "<tr>\n",
       "  <th>titles_Miss</th>             <td>    3.7972</td> <td>    0.614</td> <td>    6.186</td> <td> 0.000</td> <td>    2.594</td> <td>    5.000</td>\n",
       "</tr>\n",
       "<tr>\n",
       "  <th>titles_Mr</th>               <td>   -2.1108</td> <td>    0.483</td> <td>   -4.370</td> <td> 0.000</td> <td>   -3.057</td> <td>   -1.164</td>\n",
       "</tr>\n",
       "<tr>\n",
       "  <th>titles_Mrs</th>              <td>    4.6859</td> <td>    0.691</td> <td>    6.783</td> <td> 0.000</td> <td>    3.332</td> <td>    6.040</td>\n",
       "</tr>\n",
       "<tr>\n",
       "  <th>titles_Ms</th>               <td>   24.2514</td> <td> 4.66e+04</td> <td>    0.001</td> <td> 1.000</td> <td>-9.13e+04</td> <td> 9.13e+04</td>\n",
       "</tr>\n",
       "<tr>\n",
       "  <th>titles_Others</th>           <td>   -0.6287</td> <td>    0.648</td> <td>   -0.969</td> <td> 0.332</td> <td>   -1.900</td> <td>    0.642</td>\n",
       "</tr>\n",
       "</table>"
      ],
      "text/latex": [
       "\\begin{center}\n",
       "\\begin{tabular}{lclc}\n",
       "\\toprule\n",
       "\\textbf{Dep. Variable:}             &     Survived     & \\textbf{  No. Observations:  } &      891    \\\\\n",
       "\\textbf{Model:}                     &      Logit       & \\textbf{  Df Residuals:      } &      875    \\\\\n",
       "\\textbf{Method:}                    &       MLE        & \\textbf{  Df Model:          } &       15    \\\\\n",
       "\\textbf{Date:}                      & Thu, 29 Feb 2024 & \\textbf{  Pseudo R-squ.:     } &   0.3606    \\\\\n",
       "\\textbf{Time:}                      &     13:20:07     & \\textbf{  Log-Likelihood:    } &   -379.38   \\\\\n",
       "\\textbf{converged:}                 &      False       & \\textbf{  LL-Null:           } &   -593.33   \\\\\n",
       "\\textbf{Covariance Type:}           &    nonrobust     & \\textbf{  LLR p-value:       } & 9.405e-82   \\\\\n",
       "\\bottomrule\n",
       "\\end{tabular}\n",
       "\\begin{tabular}{lcccccc}\n",
       "                                    & \\textbf{coef} & \\textbf{std err} & \\textbf{z} & \\textbf{P$> |$z$|$} & \\textbf{[0.025} & \\textbf{0.975]}  \\\\\n",
       "\\midrule\n",
       "\\textbf{Pclass}                     &      -0.5159  &        0.179     &    -2.889  &         0.004        &       -0.866    &       -0.166     \\\\\n",
       "\\textbf{Age}                        &      -0.0254  &        0.009     &    -2.716  &         0.007        &       -0.044    &       -0.007     \\\\\n",
       "\\textbf{Fare}                       &       0.0058  &        0.003     &     2.038  &         0.042        &        0.000    &        0.011     \\\\\n",
       "\\textbf{Family}                     &      -0.2792  &        0.181     &    -1.545  &         0.122        &       -0.634    &        0.075     \\\\\n",
       "\\textbf{Sex\\_male}                  &       3.1430  &        0.646     &     4.867  &         0.000        &        1.877    &        4.409     \\\\\n",
       "\\textbf{Embarked\\_Q}                &      -0.1484  &        0.389     &    -0.382  &         0.702        &       -0.910    &        0.613     \\\\\n",
       "\\textbf{Embarked\\_S}                &      -0.2948  &        0.244     &    -1.210  &         0.226        &       -0.773    &        0.183     \\\\\n",
       "\\textbf{Cabin\\_Cat\\_Missing}        &      -0.8933  &        0.315     &    -2.836  &         0.005        &       -1.511    &       -0.276     \\\\\n",
       "\\textbf{Family\\_Cat\\_Large\\_Family} &      -0.2141  &        0.715     &    -0.300  &         0.765        &       -1.615    &        1.187     \\\\\n",
       "\\textbf{Family\\_Cat\\_Small\\_Family} &       0.7003  &        0.389     &     1.799  &         0.072        &       -0.063    &        1.463     \\\\\n",
       "\\textbf{Family\\_Cat\\_Solo}          &       0.3823  &        0.330     &     1.158  &         0.247        &       -0.265    &        1.030     \\\\\n",
       "\\textbf{titles\\_Miss}               &       3.7972  &        0.614     &     6.186  &         0.000        &        2.594    &        5.000     \\\\\n",
       "\\textbf{titles\\_Mr}                 &      -2.1108  &        0.483     &    -4.370  &         0.000        &       -3.057    &       -1.164     \\\\\n",
       "\\textbf{titles\\_Mrs}                &       4.6859  &        0.691     &     6.783  &         0.000        &        3.332    &        6.040     \\\\\n",
       "\\textbf{titles\\_Ms}                 &      24.2514  &     4.66e+04     &     0.001  &         1.000        &    -9.13e+04    &     9.13e+04     \\\\\n",
       "\\textbf{titles\\_Others}             &      -0.6287  &        0.648     &    -0.969  &         0.332        &       -1.900    &        0.642     \\\\\n",
       "\\bottomrule\n",
       "\\end{tabular}\n",
       "%\\caption{Logit Regression Results}\n",
       "\\end{center}"
      ],
      "text/plain": [
       "<class 'statsmodels.iolib.summary.Summary'>\n",
       "\"\"\"\n",
       "                           Logit Regression Results                           \n",
       "==============================================================================\n",
       "Dep. Variable:               Survived   No. Observations:                  891\n",
       "Model:                          Logit   Df Residuals:                      875\n",
       "Method:                           MLE   Df Model:                           15\n",
       "Date:                Thu, 29 Feb 2024   Pseudo R-squ.:                  0.3606\n",
       "Time:                        13:20:07   Log-Likelihood:                -379.38\n",
       "converged:                      False   LL-Null:                       -593.33\n",
       "Covariance Type:            nonrobust   LLR p-value:                 9.405e-82\n",
       "===========================================================================================\n",
       "                              coef    std err          z      P>|z|      [0.025      0.975]\n",
       "-------------------------------------------------------------------------------------------\n",
       "Pclass                     -0.5159      0.179     -2.889      0.004      -0.866      -0.166\n",
       "Age                        -0.0254      0.009     -2.716      0.007      -0.044      -0.007\n",
       "Fare                        0.0058      0.003      2.038      0.042       0.000       0.011\n",
       "Family                     -0.2792      0.181     -1.545      0.122      -0.634       0.075\n",
       "Sex_male                    3.1430      0.646      4.867      0.000       1.877       4.409\n",
       "Embarked_Q                 -0.1484      0.389     -0.382      0.702      -0.910       0.613\n",
       "Embarked_S                 -0.2948      0.244     -1.210      0.226      -0.773       0.183\n",
       "Cabin_Cat_Missing          -0.8933      0.315     -2.836      0.005      -1.511      -0.276\n",
       "Family_Cat_Large_Family    -0.2141      0.715     -0.300      0.765      -1.615       1.187\n",
       "Family_Cat_Small_Family     0.7003      0.389      1.799      0.072      -0.063       1.463\n",
       "Family_Cat_Solo             0.3823      0.330      1.158      0.247      -0.265       1.030\n",
       "titles_Miss                 3.7972      0.614      6.186      0.000       2.594       5.000\n",
       "titles_Mr                  -2.1108      0.483     -4.370      0.000      -3.057      -1.164\n",
       "titles_Mrs                  4.6859      0.691      6.783      0.000       3.332       6.040\n",
       "titles_Ms                  24.2514   4.66e+04      0.001      1.000   -9.13e+04    9.13e+04\n",
       "titles_Others              -0.6287      0.648     -0.969      0.332      -1.900       0.642\n",
       "===========================================================================================\n",
       "\"\"\""
      ]
     },
     "execution_count": 36,
     "metadata": {},
     "output_type": "execute_result"
    }
   ],
   "source": [
    "import statsmodels.api as sma\n",
    "model=sma.Logit(y,X).fit()\n",
    "model.summary()"
   ]
  },
  {
   "cell_type": "code",
   "execution_count": 37,
   "id": "25047ab1",
   "metadata": {},
   "outputs": [
    {
     "data": {
      "text/html": [
       "<div>\n",
       "<style scoped>\n",
       "    .dataframe tbody tr th:only-of-type {\n",
       "        vertical-align: middle;\n",
       "    }\n",
       "\n",
       "    .dataframe tbody tr th {\n",
       "        vertical-align: top;\n",
       "    }\n",
       "\n",
       "    .dataframe thead th {\n",
       "        text-align: right;\n",
       "    }\n",
       "</style>\n",
       "<table border=\"1\" class=\"dataframe\">\n",
       "  <thead>\n",
       "    <tr style=\"text-align: right;\">\n",
       "      <th></th>\n",
       "      <th>Pclass</th>\n",
       "      <th>Age</th>\n",
       "      <th>Fare</th>\n",
       "      <th>Family</th>\n",
       "      <th>Sex_male</th>\n",
       "      <th>Embarked_Q</th>\n",
       "      <th>Embarked_S</th>\n",
       "      <th>Cabin_Cat_Missing</th>\n",
       "      <th>Family_Cat_Large_Family</th>\n",
       "      <th>Family_Cat_Small_Family</th>\n",
       "      <th>Family_Cat_Solo</th>\n",
       "      <th>titles_Miss</th>\n",
       "      <th>titles_Mr</th>\n",
       "      <th>titles_Mrs</th>\n",
       "      <th>titles_Ms</th>\n",
       "      <th>titles_Others</th>\n",
       "    </tr>\n",
       "  </thead>\n",
       "  <tbody>\n",
       "    <tr>\n",
       "      <th>0</th>\n",
       "      <td>3</td>\n",
       "      <td>22.0</td>\n",
       "      <td>7.2500</td>\n",
       "      <td>2</td>\n",
       "      <td>1</td>\n",
       "      <td>0</td>\n",
       "      <td>1</td>\n",
       "      <td>1</td>\n",
       "      <td>0</td>\n",
       "      <td>0</td>\n",
       "      <td>0</td>\n",
       "      <td>0</td>\n",
       "      <td>1</td>\n",
       "      <td>0</td>\n",
       "      <td>0</td>\n",
       "      <td>0</td>\n",
       "    </tr>\n",
       "    <tr>\n",
       "      <th>1</th>\n",
       "      <td>1</td>\n",
       "      <td>38.0</td>\n",
       "      <td>71.2833</td>\n",
       "      <td>2</td>\n",
       "      <td>0</td>\n",
       "      <td>0</td>\n",
       "      <td>0</td>\n",
       "      <td>0</td>\n",
       "      <td>0</td>\n",
       "      <td>0</td>\n",
       "      <td>0</td>\n",
       "      <td>0</td>\n",
       "      <td>0</td>\n",
       "      <td>1</td>\n",
       "      <td>0</td>\n",
       "      <td>0</td>\n",
       "    </tr>\n",
       "    <tr>\n",
       "      <th>2</th>\n",
       "      <td>3</td>\n",
       "      <td>26.0</td>\n",
       "      <td>7.9250</td>\n",
       "      <td>1</td>\n",
       "      <td>0</td>\n",
       "      <td>0</td>\n",
       "      <td>1</td>\n",
       "      <td>1</td>\n",
       "      <td>0</td>\n",
       "      <td>0</td>\n",
       "      <td>1</td>\n",
       "      <td>1</td>\n",
       "      <td>0</td>\n",
       "      <td>0</td>\n",
       "      <td>0</td>\n",
       "      <td>0</td>\n",
       "    </tr>\n",
       "    <tr>\n",
       "      <th>3</th>\n",
       "      <td>1</td>\n",
       "      <td>35.0</td>\n",
       "      <td>53.1000</td>\n",
       "      <td>2</td>\n",
       "      <td>0</td>\n",
       "      <td>0</td>\n",
       "      <td>1</td>\n",
       "      <td>0</td>\n",
       "      <td>0</td>\n",
       "      <td>0</td>\n",
       "      <td>0</td>\n",
       "      <td>0</td>\n",
       "      <td>0</td>\n",
       "      <td>1</td>\n",
       "      <td>0</td>\n",
       "      <td>0</td>\n",
       "    </tr>\n",
       "    <tr>\n",
       "      <th>4</th>\n",
       "      <td>3</td>\n",
       "      <td>35.0</td>\n",
       "      <td>8.0500</td>\n",
       "      <td>1</td>\n",
       "      <td>1</td>\n",
       "      <td>0</td>\n",
       "      <td>1</td>\n",
       "      <td>1</td>\n",
       "      <td>0</td>\n",
       "      <td>0</td>\n",
       "      <td>1</td>\n",
       "      <td>0</td>\n",
       "      <td>1</td>\n",
       "      <td>0</td>\n",
       "      <td>0</td>\n",
       "      <td>0</td>\n",
       "    </tr>\n",
       "    <tr>\n",
       "      <th>...</th>\n",
       "      <td>...</td>\n",
       "      <td>...</td>\n",
       "      <td>...</td>\n",
       "      <td>...</td>\n",
       "      <td>...</td>\n",
       "      <td>...</td>\n",
       "      <td>...</td>\n",
       "      <td>...</td>\n",
       "      <td>...</td>\n",
       "      <td>...</td>\n",
       "      <td>...</td>\n",
       "      <td>...</td>\n",
       "      <td>...</td>\n",
       "      <td>...</td>\n",
       "      <td>...</td>\n",
       "      <td>...</td>\n",
       "    </tr>\n",
       "    <tr>\n",
       "      <th>886</th>\n",
       "      <td>2</td>\n",
       "      <td>27.0</td>\n",
       "      <td>13.0000</td>\n",
       "      <td>1</td>\n",
       "      <td>1</td>\n",
       "      <td>0</td>\n",
       "      <td>1</td>\n",
       "      <td>1</td>\n",
       "      <td>0</td>\n",
       "      <td>0</td>\n",
       "      <td>1</td>\n",
       "      <td>0</td>\n",
       "      <td>0</td>\n",
       "      <td>0</td>\n",
       "      <td>0</td>\n",
       "      <td>1</td>\n",
       "    </tr>\n",
       "    <tr>\n",
       "      <th>887</th>\n",
       "      <td>1</td>\n",
       "      <td>19.0</td>\n",
       "      <td>30.0000</td>\n",
       "      <td>1</td>\n",
       "      <td>0</td>\n",
       "      <td>0</td>\n",
       "      <td>1</td>\n",
       "      <td>0</td>\n",
       "      <td>0</td>\n",
       "      <td>0</td>\n",
       "      <td>1</td>\n",
       "      <td>1</td>\n",
       "      <td>0</td>\n",
       "      <td>0</td>\n",
       "      <td>0</td>\n",
       "      <td>0</td>\n",
       "    </tr>\n",
       "    <tr>\n",
       "      <th>888</th>\n",
       "      <td>3</td>\n",
       "      <td>22.0</td>\n",
       "      <td>23.4500</td>\n",
       "      <td>4</td>\n",
       "      <td>0</td>\n",
       "      <td>0</td>\n",
       "      <td>1</td>\n",
       "      <td>1</td>\n",
       "      <td>1</td>\n",
       "      <td>0</td>\n",
       "      <td>0</td>\n",
       "      <td>1</td>\n",
       "      <td>0</td>\n",
       "      <td>0</td>\n",
       "      <td>0</td>\n",
       "      <td>0</td>\n",
       "    </tr>\n",
       "    <tr>\n",
       "      <th>889</th>\n",
       "      <td>1</td>\n",
       "      <td>26.0</td>\n",
       "      <td>30.0000</td>\n",
       "      <td>1</td>\n",
       "      <td>1</td>\n",
       "      <td>0</td>\n",
       "      <td>0</td>\n",
       "      <td>0</td>\n",
       "      <td>0</td>\n",
       "      <td>0</td>\n",
       "      <td>1</td>\n",
       "      <td>0</td>\n",
       "      <td>1</td>\n",
       "      <td>0</td>\n",
       "      <td>0</td>\n",
       "      <td>0</td>\n",
       "    </tr>\n",
       "    <tr>\n",
       "      <th>890</th>\n",
       "      <td>3</td>\n",
       "      <td>32.0</td>\n",
       "      <td>7.7500</td>\n",
       "      <td>1</td>\n",
       "      <td>1</td>\n",
       "      <td>1</td>\n",
       "      <td>0</td>\n",
       "      <td>1</td>\n",
       "      <td>0</td>\n",
       "      <td>0</td>\n",
       "      <td>1</td>\n",
       "      <td>0</td>\n",
       "      <td>1</td>\n",
       "      <td>0</td>\n",
       "      <td>0</td>\n",
       "      <td>0</td>\n",
       "    </tr>\n",
       "  </tbody>\n",
       "</table>\n",
       "<p>891 rows × 16 columns</p>\n",
       "</div>"
      ],
      "text/plain": [
       "     Pclass   Age     Fare  Family  Sex_male  Embarked_Q  Embarked_S  \\\n",
       "0         3  22.0   7.2500       2         1           0           1   \n",
       "1         1  38.0  71.2833       2         0           0           0   \n",
       "2         3  26.0   7.9250       1         0           0           1   \n",
       "3         1  35.0  53.1000       2         0           0           1   \n",
       "4         3  35.0   8.0500       1         1           0           1   \n",
       "..      ...   ...      ...     ...       ...         ...         ...   \n",
       "886       2  27.0  13.0000       1         1           0           1   \n",
       "887       1  19.0  30.0000       1         0           0           1   \n",
       "888       3  22.0  23.4500       4         0           0           1   \n",
       "889       1  26.0  30.0000       1         1           0           0   \n",
       "890       3  32.0   7.7500       1         1           1           0   \n",
       "\n",
       "     Cabin_Cat_Missing  Family_Cat_Large_Family  Family_Cat_Small_Family  \\\n",
       "0                    1                        0                        0   \n",
       "1                    0                        0                        0   \n",
       "2                    1                        0                        0   \n",
       "3                    0                        0                        0   \n",
       "4                    1                        0                        0   \n",
       "..                 ...                      ...                      ...   \n",
       "886                  1                        0                        0   \n",
       "887                  0                        0                        0   \n",
       "888                  1                        1                        0   \n",
       "889                  0                        0                        0   \n",
       "890                  1                        0                        0   \n",
       "\n",
       "     Family_Cat_Solo  titles_Miss  titles_Mr  titles_Mrs  titles_Ms  \\\n",
       "0                  0            0          1           0          0   \n",
       "1                  0            0          0           1          0   \n",
       "2                  1            1          0           0          0   \n",
       "3                  0            0          0           1          0   \n",
       "4                  1            0          1           0          0   \n",
       "..               ...          ...        ...         ...        ...   \n",
       "886                1            0          0           0          0   \n",
       "887                1            1          0           0          0   \n",
       "888                0            1          0           0          0   \n",
       "889                1            0          1           0          0   \n",
       "890                1            0          1           0          0   \n",
       "\n",
       "     titles_Others  \n",
       "0                0  \n",
       "1                0  \n",
       "2                0  \n",
       "3                0  \n",
       "4                0  \n",
       "..             ...  \n",
       "886              1  \n",
       "887              0  \n",
       "888              0  \n",
       "889              0  \n",
       "890              0  \n",
       "\n",
       "[891 rows x 16 columns]"
      ]
     },
     "execution_count": 37,
     "metadata": {},
     "output_type": "execute_result"
    }
   ],
   "source": [
    "X"
   ]
  },
  {
   "cell_type": "code",
   "execution_count": 38,
   "id": "056c52b0",
   "metadata": {},
   "outputs": [
    {
     "name": "stdout",
     "output_type": "stream",
     "text": [
      "Optimization terminated successfully.\n",
      "         Current function value: 0.438260\n",
      "         Iterations 6\n"
     ]
    },
    {
     "data": {
      "text/html": [
       "<table class=\"simpletable\">\n",
       "<caption>Logit Regression Results</caption>\n",
       "<tr>\n",
       "  <th>Dep. Variable:</th>       <td>Survived</td>     <th>  No. Observations:  </th>  <td>   891</td>  \n",
       "</tr>\n",
       "<tr>\n",
       "  <th>Model:</th>                 <td>Logit</td>      <th>  Df Residuals:      </th>  <td>   881</td>  \n",
       "</tr>\n",
       "<tr>\n",
       "  <th>Method:</th>                 <td>MLE</td>       <th>  Df Model:          </th>  <td>     9</td>  \n",
       "</tr>\n",
       "<tr>\n",
       "  <th>Date:</th>            <td>Thu, 29 Feb 2024</td> <th>  Pseudo R-squ.:     </th>  <td>0.3419</td>  \n",
       "</tr>\n",
       "<tr>\n",
       "  <th>Time:</th>                <td>13:20:11</td>     <th>  Log-Likelihood:    </th> <td> -390.49</td> \n",
       "</tr>\n",
       "<tr>\n",
       "  <th>converged:</th>             <td>True</td>       <th>  LL-Null:           </th> <td> -593.33</td> \n",
       "</tr>\n",
       "<tr>\n",
       "  <th>Covariance Type:</th>     <td>nonrobust</td>    <th>  LLR p-value:       </th> <td>8.426e-82</td>\n",
       "</tr>\n",
       "</table>\n",
       "<table class=\"simpletable\">\n",
       "<tr>\n",
       "             <td></td>                <th>coef</th>     <th>std err</th>      <th>z</th>      <th>P>|z|</th>  <th>[0.025</th>    <th>0.975]</th>  \n",
       "</tr>\n",
       "<tr>\n",
       "  <th>Pclass</th>                  <td>   -0.7247</td> <td>    0.156</td> <td>   -4.639</td> <td> 0.000</td> <td>   -1.031</td> <td>   -0.419</td>\n",
       "</tr>\n",
       "<tr>\n",
       "  <th>Age</th>                     <td>   -0.0268</td> <td>    0.008</td> <td>   -3.348</td> <td> 0.001</td> <td>   -0.043</td> <td>   -0.011</td>\n",
       "</tr>\n",
       "<tr>\n",
       "  <th>Sex_male</th>                <td>    2.4993</td> <td>    0.481</td> <td>    5.200</td> <td> 0.000</td> <td>    1.557</td> <td>    3.441</td>\n",
       "</tr>\n",
       "<tr>\n",
       "  <th>Embarked_S</th>              <td>   -0.4054</td> <td>    0.198</td> <td>   -2.050</td> <td> 0.040</td> <td>   -0.793</td> <td>   -0.018</td>\n",
       "</tr>\n",
       "<tr>\n",
       "  <th>Cabin_Cat_Missing</th>       <td>   -0.9539</td> <td>    0.302</td> <td>   -3.160</td> <td> 0.002</td> <td>   -1.545</td> <td>   -0.362</td>\n",
       "</tr>\n",
       "<tr>\n",
       "  <th>Family_Cat_Small_Family</th> <td>    0.9162</td> <td>    0.309</td> <td>    2.964</td> <td> 0.003</td> <td>    0.310</td> <td>    1.522</td>\n",
       "</tr>\n",
       "<tr>\n",
       "  <th>Family_Cat_Solo</th>         <td>    0.9286</td> <td>    0.239</td> <td>    3.890</td> <td> 0.000</td> <td>    0.461</td> <td>    1.397</td>\n",
       "</tr>\n",
       "<tr>\n",
       "  <th>titles_Miss</th>             <td>    3.6134</td> <td>    0.447</td> <td>    8.076</td> <td> 0.000</td> <td>    2.736</td> <td>    4.490</td>\n",
       "</tr>\n",
       "<tr>\n",
       "  <th>titles_Mr</th>               <td>   -1.5082</td> <td>    0.341</td> <td>   -4.429</td> <td> 0.000</td> <td>   -2.176</td> <td>   -0.841</td>\n",
       "</tr>\n",
       "<tr>\n",
       "  <th>titles_Mrs</th>              <td>    4.6001</td> <td>    0.552</td> <td>    8.339</td> <td> 0.000</td> <td>    3.519</td> <td>    5.681</td>\n",
       "</tr>\n",
       "</table>"
      ],
      "text/latex": [
       "\\begin{center}\n",
       "\\begin{tabular}{lclc}\n",
       "\\toprule\n",
       "\\textbf{Dep. Variable:}             &     Survived     & \\textbf{  No. Observations:  } &      891    \\\\\n",
       "\\textbf{Model:}                     &      Logit       & \\textbf{  Df Residuals:      } &      881    \\\\\n",
       "\\textbf{Method:}                    &       MLE        & \\textbf{  Df Model:          } &        9    \\\\\n",
       "\\textbf{Date:}                      & Thu, 29 Feb 2024 & \\textbf{  Pseudo R-squ.:     } &   0.3419    \\\\\n",
       "\\textbf{Time:}                      &     13:20:11     & \\textbf{  Log-Likelihood:    } &   -390.49   \\\\\n",
       "\\textbf{converged:}                 &       True       & \\textbf{  LL-Null:           } &   -593.33   \\\\\n",
       "\\textbf{Covariance Type:}           &    nonrobust     & \\textbf{  LLR p-value:       } & 8.426e-82   \\\\\n",
       "\\bottomrule\n",
       "\\end{tabular}\n",
       "\\begin{tabular}{lcccccc}\n",
       "                                    & \\textbf{coef} & \\textbf{std err} & \\textbf{z} & \\textbf{P$> |$z$|$} & \\textbf{[0.025} & \\textbf{0.975]}  \\\\\n",
       "\\midrule\n",
       "\\textbf{Pclass}                     &      -0.7247  &        0.156     &    -4.639  &         0.000        &       -1.031    &       -0.419     \\\\\n",
       "\\textbf{Age}                        &      -0.0268  &        0.008     &    -3.348  &         0.001        &       -0.043    &       -0.011     \\\\\n",
       "\\textbf{Sex\\_male}                  &       2.4993  &        0.481     &     5.200  &         0.000        &        1.557    &        3.441     \\\\\n",
       "\\textbf{Embarked\\_S}                &      -0.4054  &        0.198     &    -2.050  &         0.040        &       -0.793    &       -0.018     \\\\\n",
       "\\textbf{Cabin\\_Cat\\_Missing}        &      -0.9539  &        0.302     &    -3.160  &         0.002        &       -1.545    &       -0.362     \\\\\n",
       "\\textbf{Family\\_Cat\\_Small\\_Family} &       0.9162  &        0.309     &     2.964  &         0.003        &        0.310    &        1.522     \\\\\n",
       "\\textbf{Family\\_Cat\\_Solo}          &       0.9286  &        0.239     &     3.890  &         0.000        &        0.461    &        1.397     \\\\\n",
       "\\textbf{titles\\_Miss}               &       3.6134  &        0.447     &     8.076  &         0.000        &        2.736    &        4.490     \\\\\n",
       "\\textbf{titles\\_Mr}                 &      -1.5082  &        0.341     &    -4.429  &         0.000        &       -2.176    &       -0.841     \\\\\n",
       "\\textbf{titles\\_Mrs}                &       4.6001  &        0.552     &     8.339  &         0.000        &        3.519    &        5.681     \\\\\n",
       "\\bottomrule\n",
       "\\end{tabular}\n",
       "%\\caption{Logit Regression Results}\n",
       "\\end{center}"
      ],
      "text/plain": [
       "<class 'statsmodels.iolib.summary.Summary'>\n",
       "\"\"\"\n",
       "                           Logit Regression Results                           \n",
       "==============================================================================\n",
       "Dep. Variable:               Survived   No. Observations:                  891\n",
       "Model:                          Logit   Df Residuals:                      881\n",
       "Method:                           MLE   Df Model:                            9\n",
       "Date:                Thu, 29 Feb 2024   Pseudo R-squ.:                  0.3419\n",
       "Time:                        13:20:11   Log-Likelihood:                -390.49\n",
       "converged:                       True   LL-Null:                       -593.33\n",
       "Covariance Type:            nonrobust   LLR p-value:                 8.426e-82\n",
       "===========================================================================================\n",
       "                              coef    std err          z      P>|z|      [0.025      0.975]\n",
       "-------------------------------------------------------------------------------------------\n",
       "Pclass                     -0.7247      0.156     -4.639      0.000      -1.031      -0.419\n",
       "Age                        -0.0268      0.008     -3.348      0.001      -0.043      -0.011\n",
       "Sex_male                    2.4993      0.481      5.200      0.000       1.557       3.441\n",
       "Embarked_S                 -0.4054      0.198     -2.050      0.040      -0.793      -0.018\n",
       "Cabin_Cat_Missing          -0.9539      0.302     -3.160      0.002      -1.545      -0.362\n",
       "Family_Cat_Small_Family     0.9162      0.309      2.964      0.003       0.310       1.522\n",
       "Family_Cat_Solo             0.9286      0.239      3.890      0.000       0.461       1.397\n",
       "titles_Miss                 3.6134      0.447      8.076      0.000       2.736       4.490\n",
       "titles_Mr                  -1.5082      0.341     -4.429      0.000      -2.176      -0.841\n",
       "titles_Mrs                  4.6001      0.552      8.339      0.000       3.519       5.681\n",
       "===========================================================================================\n",
       "\"\"\""
      ]
     },
     "execution_count": 38,
     "metadata": {},
     "output_type": "execute_result"
    }
   ],
   "source": [
    "#Family_Cat_Large_Family,Family\n",
    "newx=X.drop(['Family_Cat_Large_Family','Family','Embarked_Q','titles_Ms','titles_Others','Fare'],axis=1)\n",
    "model=sma.Logit(y,newx).fit()\n",
    "model.summary()"
   ]
  },
  {
   "cell_type": "code",
   "execution_count": 39,
   "id": "8060cce3",
   "metadata": {},
   "outputs": [],
   "source": [
    "#Logistic Regression Equation\n",
    "Logit=model.params[0]*dummytest.Pclass+model.params[1]*newtest.Age+\\\n",
    "model.params[2]*dummytest.Sex_male+\\\n",
    "model.params[3]*dummytest.Embarked_S+\\\n",
    "model.params[4]*dummytest.Cabin_Cat_Missing+\\\n",
    "model.params[5]*dummytest.Family_Cat_Small_Family+\\\n",
    "model.params[6]*dummytest.Family_Cat_Solo+\\\n",
    "model.params[7]*dummytest.titles_Miss+\\\n",
    "model.params[8]*dummytest.titles_Mr+\\\n",
    "model.params[9]*dummytest.titles_Mrs"
   ]
  },
  {
   "cell_type": "code",
   "execution_count": 40,
   "id": "be4f4a08",
   "metadata": {},
   "outputs": [],
   "source": [
    "deno=1+np.exp(-Logit)\n",
    "prob=1/deno\n",
    "#print(prob)\n",
    "\n",
    "def zero_one(x):\n",
    "    if x<0.5:\n",
    "        return(0)\n",
    "    else:\n",
    "        return(1)"
   ]
  },
  {
   "cell_type": "code",
   "execution_count": 41,
   "id": "e414eae9",
   "metadata": {},
   "outputs": [
    {
     "data": {
      "text/plain": [
       "891     0\n",
       "892     0\n",
       "893     0\n",
       "894     0\n",
       "895     1\n",
       "       ..\n",
       "1304    0\n",
       "1305    0\n",
       "1306    0\n",
       "1307    0\n",
       "1308    1\n",
       "Length: 418, dtype: int64"
      ]
     },
     "execution_count": 41,
     "metadata": {},
     "output_type": "execute_result"
    }
   ],
   "source": [
    "prob.apply(zero_one)"
   ]
  },
  {
   "cell_type": "markdown",
   "id": "1eeeb17a",
   "metadata": {},
   "source": [
    "# Pseudo R squared\n",
    "* Mcfadden R2** This R2 is not what we have understood in Linear Regression.\n",
    "* In Linear Regression , R2 will explain the variance in y because of X.\n",
    "* However , in logistic Regression, R2 is called Pseudo R2 because here the R2 of LOg Reg model cannnot explain the varinace in the target \n",
    " * because of the X .\n",
    "\n",
    "* R2 in Log model can approach 1 however , in relaity it is practically not possible.\n",
    "\n",
    "* in case of mcfadden, the range is between 0.2-0.4.\n",
    "**Cox and Snell**\n",
    "* Cox and Snell's R2 is generally more focused on nested logistic\n",
    "  Regression Models. It means that if in add a new predictor into the model and this r2 increases, then i can say that the new predictor is a significant predictor for the target \n",
    "  **Nagelkerke**\n",
    "  * Nagelkerke has a very high r2 value and it is the goto metric for understanding the model's predictive power.\n",
    "  \n",
    "  * Pseudo R2 tells us about the predictive power of the model.In other words, it explains how well our model is able to predict    the Binary Outcome(target variable)"
   ]
  },
  {
   "cell_type": "code",
   "execution_count": 42,
   "id": "d51a038d",
   "metadata": {},
   "outputs": [
    {
     "name": "stdout",
     "output_type": "stream",
     "text": [
      "Mcfadden 0.341864596470002\n"
     ]
    }
   ],
   "source": [
    "#McFadden=1-llf/llnull\n",
    "mcfadden=1-(model.llf/model.llnull)\n",
    "print('Mcfadden',mcfadden)"
   ]
  },
  {
   "cell_type": "code",
   "execution_count": 43,
   "id": "95397656",
   "metadata": {},
   "outputs": [
    {
     "data": {
      "text/plain": [
       "0.3657445300620269"
      ]
     },
     "execution_count": 43,
     "metadata": {},
     "output_type": "execute_result"
    }
   ],
   "source": [
    "# Cox and Snell\n",
    "L1=np.exp(model.llf)\n",
    "L0=np.exp(model.llnull)\n",
    "#mcfadden**(2/newx.shape[0])\n",
    "cox_snell=1-(L0/L1)**(2/newx.shape[0])\n",
    "cox_snell"
   ]
  },
  {
   "cell_type": "code",
   "execution_count": 44,
   "id": "46e27ff3",
   "metadata": {},
   "outputs": [
    {
     "name": "stdout",
     "output_type": "stream",
     "text": [
      "0.4969323351293346\n"
     ]
    }
   ],
   "source": [
    "#Nagelkerke\n",
    "nagelkerke=cox_snell/(1-(L0)**(2/newx.shape[0]))\n",
    "print(nagelkerke)"
   ]
  },
  {
   "cell_type": "markdown",
   "id": "7d752f60",
   "metadata": {},
   "source": [
    "Gaussian Naive Bayes"
   ]
  },
  {
   "cell_type": "code",
   "execution_count": 45,
   "id": "96218bfd",
   "metadata": {},
   "outputs": [
    {
     "data": {
      "text/plain": [
       "array([0., 1., 0., 0., 1., 0., 1., 0., 1., 0., 0., 0., 1., 0., 1., 1., 0.,\n",
       "       0., 1., 1., 0., 0., 1., 0., 1., 0., 1., 0., 0., 0., 0., 0., 1., 1.,\n",
       "       0., 0., 0., 0., 0., 0., 0., 0., 0., 1., 1., 0., 0., 0., 1., 1., 0.,\n",
       "       0., 0., 1., 0., 0., 0., 0., 0., 1., 0., 0., 0., 1., 1., 1., 1., 0.,\n",
       "       0., 1., 1., 0., 0., 0., 1., 1., 0., 1., 0., 1., 0., 1., 0., 0., 0.,\n",
       "       0., 1., 0., 1., 0., 1., 0., 1., 0., 0., 0., 1., 0., 0., 0., 1., 0.,\n",
       "       0., 0., 1., 0., 0., 0., 0., 0., 0., 1., 1., 1., 1., 0., 0., 1., 0.,\n",
       "       1., 1., 0., 1., 0., 0., 1., 0., 1., 0., 0., 0., 1., 1., 0., 0., 0.,\n",
       "       0., 0., 0., 0., 0., 1., 1., 0., 0., 0., 0., 0., 0., 0., 1., 0., 0.,\n",
       "       1., 0., 0., 1., 0., 0., 1., 1., 0., 1., 0., 0., 1., 0., 0., 1., 0.,\n",
       "       0., 0., 0., 0., 0., 1., 1., 0., 1., 1., 0., 1., 1., 0., 1., 0., 1.,\n",
       "       0., 0., 0., 0., 0., 0., 0., 0., 0., 1., 0., 0., 1., 1., 0., 1., 1.,\n",
       "       0., 0., 1., 0., 1., 0., 0., 0., 0., 1., 0., 0., 1., 1., 1., 0., 1.,\n",
       "       0., 1., 0., 1., 1., 0., 1., 0., 0., 0., 1., 0., 0., 0., 0., 0., 0.,\n",
       "       1., 1., 1., 1., 1., 0., 0., 0., 1., 0., 1., 1., 1., 0., 1., 0., 0.,\n",
       "       0., 0., 0., 1., 0., 0., 0., 1., 1., 0., 0., 0., 0., 0., 0., 0., 0.,\n",
       "       1., 1., 0., 1., 0., 0., 0., 0., 0., 0., 1., 1., 1., 0., 0., 0., 0.,\n",
       "       0., 0., 1., 0., 1., 0., 0., 1., 0., 0., 0., 0., 0., 0., 0., 1., 1.,\n",
       "       1., 0., 1., 1., 0., 0., 0., 1., 1., 1., 1., 0., 0., 0., 0., 0., 0.,\n",
       "       0., 1., 0., 1., 0., 0., 0., 1., 0., 0., 1., 0., 0., 0., 0., 0., 0.,\n",
       "       0., 0., 0., 1., 0., 0., 0., 1., 0., 0., 1., 0., 0., 0., 0., 0., 1.,\n",
       "       0., 0., 1., 0., 1., 1., 0., 1., 0., 0., 0., 1., 0., 0., 1., 0., 0.,\n",
       "       1., 1., 1., 0., 0., 0., 0., 0., 1., 1., 0., 1., 0., 0., 0., 0., 0.,\n",
       "       1., 0., 0., 0., 1., 0., 1., 0., 0., 1., 0., 1., 0., 0., 0., 0., 1.,\n",
       "       1., 1., 1., 1., 0., 0., 1., 0., 0., 0.])"
      ]
     },
     "execution_count": 45,
     "metadata": {},
     "output_type": "execute_result"
    }
   ],
   "source": [
    "from sklearn.naive_bayes import GaussianNB\n",
    "gnb=GaussianNB()\n",
    "pred=gnb.fit(X,y).predict(dummytest)\n",
    "pred"
   ]
  },
  {
   "cell_type": "code",
   "execution_count": null,
   "id": "6f512cc1",
   "metadata": {},
   "outputs": [],
   "source": []
  }
 ],
 "metadata": {
  "kernelspec": {
   "display_name": "Python 3 (ipykernel)",
   "language": "python",
   "name": "python3"
  },
  "language_info": {
   "codemirror_mode": {
    "name": "ipython",
    "version": 3
   },
   "file_extension": ".py",
   "mimetype": "text/x-python",
   "name": "python",
   "nbconvert_exporter": "python",
   "pygments_lexer": "ipython3",
   "version": "3.11.4"
  }
 },
 "nbformat": 4,
 "nbformat_minor": 5
}
